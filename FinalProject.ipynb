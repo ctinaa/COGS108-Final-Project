{
 "cells": [
  {
   "cell_type": "markdown",
   "metadata": {},
   "source": [
    "# Exploring Desalination Plant Numbers"
   ]
  },
  {
   "cell_type": "markdown",
   "metadata": {
    "collapsed": false
   },
   "source": [
    "# Introduction and Background"
   ]
  },
  {
   "cell_type": "markdown",
   "metadata": {
    "collapsed": false
   },
   "source": [
    "##  Research Question: \n",
    ">In case of the total drought in California, how many desalination plant projects we need to supply residential use water for population who live in urban areas in California? \n",
    "\n",
    "## Hypothesis: \n",
    "Suppose that a $1 billion desalination plant project can produce 50 million gallons water per day and the average residential water use  is about 90 gallons per capita per day. After researching online, we got that urban population in Califonia is [(1)](http://ruralhealth.stanford.edu/health-pros/factsheets/) 28,102,643 and the average water each person use at home per day is about [(2)](https://water.usgs.gov/edu/qa-home-percapita.html) 80-100 gallons. We estimate the total number of desalination plant projects to supply residential-use water for urban population in California by the formula:\n",
    "> **the total residential-use water** / **one desalination plant project can produce** = (28102643 * 90) / 5e7 = 51 desalination plants\n",
    "\n",
    "Our hypothesis is that we need at least 51 desalination plant projects to supply urban residential-use water in Califonia. \n",
    "\n",
    "References:\n",
    "- (1) http://ruralhealth.stanford.edu/health-pros/factsheets/ (For urban population in Califonia: 28,102,643)\n",
    "- (2) https://water.usgs.gov/edu/qa-home-percapita.html (For How much water does the average person use at home per day? )\n",
    "\n",
    "## Background:\n",
    "\n",
    "### 1. Why is this question of interest? \n",
    "California is going to suffer from a crippling megadrought in the next century. If our global temperature raises by 2 degrees celsius, the chance that this occurs is merely 30-60 percent. However, if we continue on the path that we are currently, it is almost certain that we will face a drought significantly worse than any previously recorded drought.(1) Our water infrastructure is not prepared for this, as evidenced by the most recent drought. A drought lasting many years will exhaust all of our freshwater, leaving us with two options: desalination and importing water. Importing water isn't preferable because of transportation costs and the need to rely on other states for a huge amount of our basic needs. Desalination is innefficient, requiring huge investments to obtain even normal prices for the water produced by desalinating ocean water. However, if we want to retain our independence from other states and avoid building massive amounts of infrastructure to import water, we need to build these expensive plants.  Not only is this an expensive problem, but it is a problem that requires planning and foresight: the billion dollar desalination plant in Oceanside, for example, took 14 years to build. (2) For these reasons, it's critical to start thinking of how many desalination plants we need to support our population. \n",
    "\n",
    "We are interested in this question since we noticed that California has been under the situation of drought for five years. Even though recently, the news mentioned that \"2017 could be the end of a dry spell\"(3), we still think that it is necessary to prepare for the next drought. After doing some research online, we think that building some desalination plant projects may be a good strategy. Someone may argue that it is too expensive and it is not realistic. However, based on the article,\"Israel Proves the Desalination Era Is Here\", the desalination project mentioned in the article can produce the low-cost water. \" Desalination used to be an expensive energy hog, but the kind of advanced technologies being employed at Sorek have been a game changer. Water produced by desalination costs just a third of what it did in the 1990s. Sorek can produce a thousand liters of drinking water for 58 cents. Israeli households pay about US$30 a month for their water — similar to households in most U.S. cities, and far less than Las Vegas (US\\$47) or Los Angeles (US\\$58).\" (4) In the near future, such desalination project may be a win-win method to solve water shortage problems. \n",
    "\n",
    "References: \n",
    "- (1) https://www.ecowatch.com/megadroughts-2031955357.html\n",
    "- (2) http://www.latimes.com/local/california/la-me-carlsbad-desalination-20150604-story.html#page=1\n",
    "- (3) http://www.latimes.com/local/california/la-me-storms-drought-20170111-story.html (News about 2017 could be the end of a dry spell)\n",
    "- (4) https://www.scientificamerican.com/article/israel-proves-the-desalination-era-is-here/ (The article about other countries' successful desalination projects and why the desalination project is feasible)\n",
    "\n",
    "\n",
    "### 2. What background information led you to your hypothesis, and why is this important?\n",
    "In order to solve our question, we have to figure out total urban population and total residential-use water in California and how many water a desalination plant project can  produce per day. Based on the link below, we can know these important information. We mentioned them in the hypothesis part as well. \n",
    "\n",
    "References: \n",
    "- (1) http://ruralhealth.stanford.edu/health-pros/factsheets/ (For urban population in Califonia: 28,102,643)\n",
    "- (2) https://water.usgs.gov/edu/qa-home-percapita.html (For How much water does the average person use at home per day? )\n",
    "- (3) http://www.mercurynews.com/2014/05/29/nations-largest-ocean-desalination-plant-goes-up-near-san-diego-future-of-the-california-coast/ (One $1-billion desalination plant project can produce 50 million gallons water per day.)\n",
    "\n",
    "### 3. What areas do we consider as major urban areas? \n",
    "\n",
    "- Based on this website https://en.wikipedia.org/wiki/List_of_California_urban_areas, we will set the cut-off point at the population larger than 50000. \n",
    "\n",
    "### 4. How many gallons water in these urban areas each people are using per day?\n",
    "\n",
    "- Based on the dataset, the column 'R-GPCD_Calculated' will be the number of gallons water each people use per day. \n",
    "- More details about description of our dataset used: Please read the \"Urban_Water_Supplier_Monitoring_Data_Definitions.pdf\"\n",
    "\n",
    "### 5. How many water can each desalination plant project produce per day?\n",
    "- Based on the article: One $1-billion desalination plant project can produce 50 million gallons water per day.(http://www.mercurynews.com/2014/05/29/nations-largest-ocean-desalination-plant-goes-up-near-san-diego-future-of-the-california-coast/ ) \n",
    "\n",
    "### 6. How many desalination plant projects we need for a given urban areas?\n",
    "\n",
    "- The number of desalination plant projects= the total residence-use water per day / 50 million gallons\n",
    "\n"
   ]
  },
  {
   "cell_type": "markdown",
   "metadata": {
    "collapsed": false
   },
   "source": [
    "# Data Description"
   ]
  },
  {
   "cell_type": "markdown",
   "metadata": {
    "collapsed": true
   },
   "source": [
    "\n",
    "### Data Description\n",
    "\n",
    "\n",
    "| Database Name | Description | # of Observations | Brief Useage | \n",
    "|:------------ |:-----------|:------------------:|:--------------|\n",
    "| **[Urban_Water_Supplier_Monitoring_Reports.csv](https://data.ca.gov/dataset/drinking-water-%E2%80%93-urban-water-supplier-monitoring-%E2%80%93-drinc)**| Drinking Water Information Clearinghouse (DRINC) includes water activities such as the amount of water being served to different regions and counties. There are 31 columns in this dataset and for for information, please read the pdf file: 'Urban_Water_Supplier_Monitoring_Data_Definitions.pdf' | 9356  | This dataset allows us to find information we need to solve our research question. We will forcus on these columns, R-GPCD Calculated,Supplier_Name,Hydrologic_Region,County,Reporting_Month\tPopulation_Served,R-GPCD_Calculated  | \n",
    "\n",
    "\n"
   ]
  },
  {
   "cell_type": "markdown",
   "metadata": {
    "collapsed": false
   },
   "source": [
    "## Proposed Methods\n",
    "\n",
    "**1. How 'clean' is the data? To the extent that it requires cleaning, how will you do so?**\n",
    "\n",
    "- Our data set has more information than we need so we plan on dropping the unecessary columns first. \n",
    "\n",
    "**2. How will you analyze the data? Be as specific as you can. Briefly mention any pre-processing steps that are required for your methods (for example, checking data distributions and performing any transformations that may be required). Include a brief outline of how you will apply your chosen method(s).** \n",
    "\n",
    "- We will seperate our data set based on the year since we noticed that the raw dataset contains different years data. It is  convenient for us to work on the data set which contains the same year data and extract information we need to answer our question.  \n",
    "\n",
    "**3. What do you plan to report? Briefly mention any key visualizations you plan to create, and/or the kind of result you will be able to report that addresses your question (this could be, for example, the outcome of some statistical test(s), prediction error on a model, a model fit parameter, etc.).**\n",
    "\n",
    "- We will report our result as a list and at the same time, we will build three models to predict how many desalination plant projects we need based on the supplier name, county name or hydrologic name. For example, if we want to find how many desalination projects we need to substitude one water supplier, we will call the function  estimate_supplier to figure it out. For more details,we will show them in the result part.\n",
    "\n",
    "** 4.Include a list of packages you expect to use for you project. If you plan to use packages we have not used in class, add a very brief description about them (a few words is sufficient). **\n",
    "\n",
    "- We plan to use panda, matplotlib.pyplot, and numpy\n"
   ]
  },
  {
   "cell_type": "markdown",
   "metadata": {
    "collapsed": false
   },
   "source": [
    "# Data Cleaning and Pre-processing\n"
   ]
  },
  {
   "cell_type": "markdown",
   "metadata": {
    "collapsed": false
   },
   "source": [
    "### Import Packages  "
   ]
  },
  {
   "cell_type": "code",
   "execution_count": 78,
   "metadata": {
    "collapsed": false
   },
   "outputs": [],
   "source": [
    "%matplotlib inline\n",
    "\n",
    "import pandas as pd\n",
    "import numpy as np\n",
    "import matplotlib.pyplot as plt"
   ]
  },
  {
   "cell_type": "code",
   "execution_count": 79,
   "metadata": {
    "collapsed": false
   },
   "outputs": [
    {
     "data": {
      "text/plain": [
       "(9356, 31)"
      ]
     },
     "execution_count": 79,
     "metadata": {},
     "output_type": "execute_result"
    }
   ],
   "source": [
    "df = pd.read_csv('Urban_Water_Supplier_Monitoring_Reports.csv')\n",
    "df.shape"
   ]
  },
  {
   "cell_type": "code",
   "execution_count": 80,
   "metadata": {
    "collapsed": false
   },
   "outputs": [],
   "source": [
    "#Drop unnecessary columns\n",
    "df=df.drop(['PWSID'],axis=1)\n",
    "df=df.drop(['Days_Allowed/Week'],axis=1)\n",
    "df=df.drop(['Actions_Implemented'],axis=1)\n",
    "df=df.drop(['Complaints'],axis=1)\n",
    "df=df.drop(['Follow-ups'],axis=1)\n",
    "df=df.drop(['Penalties_Rate'],axis=1)\n",
    "df=df.drop(['Penalties_Other'],axis=1)\n",
    "df=df.drop(['Warnings'],axis=1)\n",
    "df=df.drop(['ID'],axis=1)\n",
    "df=df.drop(['Ag_Cert'],axis=1)\n",
    "df=df.drop(['Current_Ag'],axis=1)\n",
    "df=df.drop(['Current_Production_Calculated'],axis=1)\n",
    "df=df.drop(['Mandatory Restrictions'],axis=1)\n",
    "df=df.drop(['2013_Production'],axis=1)\n",
    "df=df.drop(['2013_Ag'],axis=1)\n",
    "df=df.drop(['Current_Recycled'],axis=1)\n",
    "df=df.drop(['Current_Non-revenue'],axis=1)\n",
    "df=df.drop(['Percent_Reduction'],axis=1)\n",
    "df=df.drop(['2013_Production_Calculated'],axis=1)\n",
    "df=df.drop(['CII'],axis=1)\n",
    "df=df.drop(['Days-in-Month'],axis=1)\n",
    "df=df.drop(['Percent_Residential_Use'],axis=1)\n",
    "df=df.drop(['Current_Production'],axis=1)\n",
    "df=df.drop(['Units'],axis=1)\n",
    "df=df.drop(['R_GPCD_Reported '],axis=1) "
   ]
  },
  {
   "cell_type": "code",
   "execution_count": 81,
   "metadata": {
    "collapsed": false
   },
   "outputs": [
    {
     "data": {
      "text/plain": [
       "(4066, 6)"
      ]
     },
     "execution_count": 81,
     "metadata": {},
     "output_type": "execute_result"
    }
   ],
   "source": [
    "# Figuring out urban areas which we are interested in.\n",
    "df=df.drop(df[df.Population_Served<=50000].index)\n",
    "df.shape"
   ]
  },
  {
   "cell_type": "code",
   "execution_count": 82,
   "metadata": {
    "collapsed": false
   },
   "outputs": [
    {
     "data": {
      "text/html": [
       "<div>\n",
       "<table border=\"1\" class=\"dataframe\">\n",
       "  <thead>\n",
       "    <tr style=\"text-align: right;\">\n",
       "      <th></th>\n",
       "      <th>Supplier_Name</th>\n",
       "      <th>Hydrologic_Region</th>\n",
       "      <th>County</th>\n",
       "      <th>Reporting_Month</th>\n",
       "      <th>Population_Served</th>\n",
       "      <th>R-GPCD_Calculated</th>\n",
       "    </tr>\n",
       "  </thead>\n",
       "  <tbody>\n",
       "    <tr>\n",
       "      <th>0</th>\n",
       "      <td>East Bay Municipal Utilities District</td>\n",
       "      <td>San Francisco Bay</td>\n",
       "      <td>ALAMEDA</td>\n",
       "      <td>4/15/2016 0:00</td>\n",
       "      <td>1400000</td>\n",
       "      <td>59</td>\n",
       "    </tr>\n",
       "    <tr>\n",
       "      <th>1</th>\n",
       "      <td>East Bay Municipal Utilities District</td>\n",
       "      <td>San Francisco Bay</td>\n",
       "      <td>ALAMEDA</td>\n",
       "      <td>3/15/2016 0:00</td>\n",
       "      <td>1400000</td>\n",
       "      <td>53</td>\n",
       "    </tr>\n",
       "    <tr>\n",
       "      <th>2</th>\n",
       "      <td>East Bay Municipal Utilities District</td>\n",
       "      <td>San Francisco Bay</td>\n",
       "      <td>ALAMEDA</td>\n",
       "      <td>2/15/2016 0:00</td>\n",
       "      <td>1400000</td>\n",
       "      <td>54</td>\n",
       "    </tr>\n",
       "    <tr>\n",
       "      <th>3</th>\n",
       "      <td>East Bay Municipal Utilities District</td>\n",
       "      <td>San Francisco Bay</td>\n",
       "      <td>ALAMEDA</td>\n",
       "      <td>1/15/2016 0:00</td>\n",
       "      <td>1400000</td>\n",
       "      <td>53</td>\n",
       "    </tr>\n",
       "    <tr>\n",
       "      <th>4</th>\n",
       "      <td>East Bay Municipal Utilities District</td>\n",
       "      <td>San Francisco Bay</td>\n",
       "      <td>ALAMEDA</td>\n",
       "      <td>12/15/2015 0:00</td>\n",
       "      <td>1390000</td>\n",
       "      <td>53</td>\n",
       "    </tr>\n",
       "    <tr>\n",
       "      <th>5</th>\n",
       "      <td>East Bay Municipal Utilities District</td>\n",
       "      <td>San Francisco Bay</td>\n",
       "      <td>ALAMEDA</td>\n",
       "      <td>11/15/2015 0:00</td>\n",
       "      <td>1390000</td>\n",
       "      <td>57</td>\n",
       "    </tr>\n",
       "    <tr>\n",
       "      <th>6</th>\n",
       "      <td>East Bay Municipal Utilities District</td>\n",
       "      <td>San Francisco Bay</td>\n",
       "      <td>ALAMEDA</td>\n",
       "      <td>10/15/2015 0:00</td>\n",
       "      <td>1390000</td>\n",
       "      <td>68</td>\n",
       "    </tr>\n",
       "    <tr>\n",
       "      <th>7</th>\n",
       "      <td>East Bay Municipal Utilities District</td>\n",
       "      <td>San Francisco Bay</td>\n",
       "      <td>ALAMEDA</td>\n",
       "      <td>9/15/2015 0:00</td>\n",
       "      <td>1390000</td>\n",
       "      <td>74</td>\n",
       "    </tr>\n",
       "    <tr>\n",
       "      <th>8</th>\n",
       "      <td>East Bay Municipal Utilities District</td>\n",
       "      <td>San Francisco Bay</td>\n",
       "      <td>ALAMEDA</td>\n",
       "      <td>8/15/2015 0:00</td>\n",
       "      <td>1390000</td>\n",
       "      <td>74</td>\n",
       "    </tr>\n",
       "    <tr>\n",
       "      <th>9</th>\n",
       "      <td>East Bay Municipal Utilities District</td>\n",
       "      <td>San Francisco Bay</td>\n",
       "      <td>ALAMEDA</td>\n",
       "      <td>7/15/2015 0:00</td>\n",
       "      <td>1390000</td>\n",
       "      <td>72</td>\n",
       "    </tr>\n",
       "  </tbody>\n",
       "</table>\n",
       "</div>"
      ]
     },
     "execution_count": 82,
     "metadata": {},
     "output_type": "execute_result"
    }
   ],
   "source": [
    "df.head(n=10)"
   ]
  },
  {
   "cell_type": "markdown",
   "metadata": {
    "collapsed": false
   },
   "source": [
    "##### Seperate to three dataframe based on reporting_year ..."
   ]
  },
  {
   "cell_type": "code",
   "execution_count": 83,
   "metadata": {
    "collapsed": false
   },
   "outputs": [],
   "source": [
    "df2016=df[df.Reporting_Month.str.contains(\"2016\") == True]\n",
    "df2015=df[df.Reporting_Month.str.contains(\"2015\") == True]\n",
    "df2014=df[df.Reporting_Month.str.contains(\"2014\") == True]\n",
    "#Remove all rows from above dataframes that have missing data (that have NaN values) \n",
    "df2016= df2016.dropna()\n",
    "df2015= df2015.dropna()\n",
    "df2014= df2014.dropna()"
   ]
  },
  {
   "cell_type": "code",
   "execution_count": 84,
   "metadata": {
    "collapsed": false
   },
   "outputs": [],
   "source": [
    "#Add one column \"Total_Res_use_perDay\" which is based on the population served \n",
    "#and average residential water use per-capita-per-day.\n",
    "df2016=df2016.assign(Total_Res_use_PerDay = df2016['R-GPCD_Calculated']*df2016['Population_Served'])\n",
    "df2015=df2015.assign(Total_Res_use_PerDay = df2015['R-GPCD_Calculated']*df2015['Population_Served'])\n",
    "df2014=df2014.assign(Total_Res_use_PerDay = df2014['R-GPCD_Calculated']*df2014['Population_Served'])"
   ]
  },
  {
   "cell_type": "code",
   "execution_count": 85,
   "metadata": {
    "collapsed": false
   },
   "outputs": [
    {
     "data": {
      "text/html": [
       "<div>\n",
       "<table border=\"1\" class=\"dataframe\">\n",
       "  <thead>\n",
       "    <tr style=\"text-align: right;\">\n",
       "      <th></th>\n",
       "      <th>Supplier_Name</th>\n",
       "      <th>Hydrologic_Region</th>\n",
       "      <th>County</th>\n",
       "      <th>Reporting_Month</th>\n",
       "      <th>Population_Served</th>\n",
       "      <th>R-GPCD_Calculated</th>\n",
       "      <th>Total_Res_use_PerDay</th>\n",
       "    </tr>\n",
       "  </thead>\n",
       "  <tbody>\n",
       "    <tr>\n",
       "      <th>0</th>\n",
       "      <td>East Bay Municipal Utilities District</td>\n",
       "      <td>San Francisco Bay</td>\n",
       "      <td>ALAMEDA</td>\n",
       "      <td>4/15/2016 0:00</td>\n",
       "      <td>1400000</td>\n",
       "      <td>59</td>\n",
       "      <td>82600000</td>\n",
       "    </tr>\n",
       "    <tr>\n",
       "      <th>1</th>\n",
       "      <td>East Bay Municipal Utilities District</td>\n",
       "      <td>San Francisco Bay</td>\n",
       "      <td>ALAMEDA</td>\n",
       "      <td>3/15/2016 0:00</td>\n",
       "      <td>1400000</td>\n",
       "      <td>53</td>\n",
       "      <td>74200000</td>\n",
       "    </tr>\n",
       "    <tr>\n",
       "      <th>2</th>\n",
       "      <td>East Bay Municipal Utilities District</td>\n",
       "      <td>San Francisco Bay</td>\n",
       "      <td>ALAMEDA</td>\n",
       "      <td>2/15/2016 0:00</td>\n",
       "      <td>1400000</td>\n",
       "      <td>54</td>\n",
       "      <td>75600000</td>\n",
       "    </tr>\n",
       "    <tr>\n",
       "      <th>3</th>\n",
       "      <td>East Bay Municipal Utilities District</td>\n",
       "      <td>San Francisco Bay</td>\n",
       "      <td>ALAMEDA</td>\n",
       "      <td>1/15/2016 0:00</td>\n",
       "      <td>1400000</td>\n",
       "      <td>53</td>\n",
       "      <td>74200000</td>\n",
       "    </tr>\n",
       "    <tr>\n",
       "      <th>47</th>\n",
       "      <td>Yorba Linda Water District</td>\n",
       "      <td>South Coast</td>\n",
       "      <td>ORANGE</td>\n",
       "      <td>4/15/2016 0:00</td>\n",
       "      <td>78539</td>\n",
       "      <td>117</td>\n",
       "      <td>9189063</td>\n",
       "    </tr>\n",
       "  </tbody>\n",
       "</table>\n",
       "</div>"
      ]
     },
     "execution_count": 85,
     "metadata": {},
     "output_type": "execute_result"
    }
   ],
   "source": [
    "#Show the form of 2016 dataframe\n",
    "df2016.head(n=5)\n"
   ]
  },
  {
   "cell_type": "markdown",
   "metadata": {
    "collapsed": false
   },
   "source": [
    "# Data Visualization"
   ]
  },
  {
   "cell_type": "markdown",
   "metadata": {
    "collapsed": false
   },
   "source": [
    "\n",
    "## Histogram Part\n",
    "#### Plot the histogram to show the potential distribution of  residential water usage gallons-per-capita-day in different years\n"
   ]
  },
  {
   "cell_type": "code",
   "execution_count": 86,
   "metadata": {
    "collapsed": false,
    "scrolled": true
   },
   "outputs": [
    {
     "data": {
      "image/png": "[encoded data removed]"
     },
     "execution_count": 86,
     "metadata": {},
     "output_type": "execute_result"
    },
    {
     "data": {
      "image/png": "[encoded data removed]"
     },
     "execution_count": 86,
     "metadata": {},
     "output_type": "execute_result"
    },
    {
     "data": {
      "image/png": "[encoded data removed]"
     },
     "execution_count": 86,
     "metadata": {},
     "output_type": "execute_result"
    }
   ],
   "source": [
    "#1. Plot the histogram of number of residential gallons-per-capita-day in 2016\n",
    "fig = plt.figure(figsize=(15, 8))\n",
    "cm=plt.cm.get_cmap('RdYlBu_r')\n",
    "data=df2016['R-GPCD_Calculated']\n",
    "n, bins, patches = plt.hist(data)\n",
    "bin_centers = 0.5 * (bins[:-1] + bins[1:])\n",
    "plt.xlabel('Gallons of Water ')\n",
    "plt.ylabel('# Counts')\n",
    "plt.title(r'$\\mathrm{Histogram\\ of\\ Residential\\ Water\\ Usage\\ in\\ 2016\\ (gallons-per-capita-day)}$')\n",
    "col = bin_centers - min(bin_centers)\n",
    "col /= max(col)\n",
    "for c, p in zip(col, patches):\n",
    "    plt.setp(p, 'facecolor', cm(c))\n",
    "plt.grid(True)\n",
    "#number of residential gallons-per-capita-day\n",
    "\n",
    "# 2. Plot the histogram of number of residential gallons-per-capita-day in 2015\n",
    "fig = plt.figure(figsize=(15, 8))\n",
    "cm=plt.cm.get_cmap('RdYlGn_r')\n",
    "data=df2015['R-GPCD_Calculated']\n",
    "n, bins, patches = plt.hist(data)\n",
    "bin_centers = 0.5 * (bins[:-1] + bins[1:])\n",
    "plt.xlabel('Gallons of Water ')\n",
    "plt.ylabel('# Counts')\n",
    "plt.title(r'$\\mathrm{Histogram\\ of\\ Residential\\ Water\\ Usage\\ in\\ 2015\\ (gallons-per-capita-day)}$')\n",
    "col = bin_centers - min(bin_centers)\n",
    "col /= max(col)\n",
    "for c, p in zip(col, patches):\n",
    "    plt.setp(p, 'facecolor', cm(c))\n",
    "plt.grid(True)\n",
    "\n",
    "\n",
    "# 3. Plot the histogram of number of residential gallons-per-capita-day in 2014\n",
    "fig = plt.figure(figsize=(15, 8))\n",
    "cm=plt.cm.get_cmap('PuOr')\n",
    "data=df2014['R-GPCD_Calculated']\n",
    "n, bins, patches = plt.hist(data)\n",
    "bin_centers = 0.5 * (bins[:-1] + bins[1:])\n",
    "plt.xlabel('Gallons of Water ')\n",
    "plt.ylabel('# Counts')\n",
    "plt.title(r'$\\mathrm{Histogram\\ of\\ Residential\\ Water\\ Usage\\ in\\ 2014\\ (gallons-per-capita-day)}$')\n",
    "col = bin_centers - min(bin_centers)\n",
    "col /= max(col)\n",
    "for c, p in zip(col, patches):\n",
    "    plt.setp(p, 'facecolor', cm(c))\n",
    "plt.grid(True)\n"
   ]
  },
  {
   "cell_type": "markdown",
   "metadata": {
    "collapsed": false
   },
   "source": [
    "## Bar Chart Part\n",
    "###### For R-GPCD_Calculated in each County\n",
    "R-GPCD: Residential Gallons-per-capita-day"
   ]
  },
  {
   "cell_type": "code",
   "execution_count": 87,
   "metadata": {
    "collapsed": false
   },
   "outputs": [
    {
     "data": {
      "text/plain": [
       "<matplotlib.axes._subplots.AxesSubplot at 0x7f363111de48>"
      ]
     },
     "execution_count": 87,
     "metadata": {},
     "output_type": "execute_result"
    },
    {
     "data": {
      "image/png": "[encoded data removed]"
     },
     "execution_count": 87,
     "metadata": {},
     "output_type": "execute_result"
    }
   ],
   "source": [
    "\n",
    "#A bar chart showing R-GPCD_Calculated in each county based on df206\n",
    "countyList = df2016['County'].unique()\n",
    "countyList.sort()\n",
    "countyGPCDdict = {}\n",
    "gpcdList16 = []\n",
    "for i in range(len(countyList)):\n",
    "    currRGPCD = df2016[df2016['County'] == countyList[i]]['R-GPCD_Calculated'].mean()\n",
    "    countyGPCDdict[countyList[i]] = currRGPCD\n",
    "\n",
    "countyGPCDdict = pd.Series(countyGPCDdict)\n",
    "countyGPCDdict.sort_values(inplace = True)\n",
    "countyGPCDdict.plot(kind = 'bar', grid = True, figsize = (20,8), title = 'Average Gallons Per Capita Day for each county in 2016')\n",
    "# randList = list(range(0,len(countyList)))\n",
    "# plt.figure(figsize=(20,15))\n",
    "# plt.bar(randList, gpcdList16, align='center', alpha=0.5)\n",
    "# plt.xlabel('Counties')\n",
    "# plt.ylabel('Average R-GPCD in 2016')\n",
    "# plt.ylim(ymax = 220)\n",
    "# plt.xticks(randList, countyList, fontsize = 8, rotation = 'vertical')\n",
    "# plt.title(r'$\\mathrm{Bar\\ of\\ Residential\\ Gallons-per-capita-day(gallons-per-capita-day)\\ 2016}$')\n",
    "# plt.show()"
   ]
  },
  {
   "cell_type": "code",
   "execution_count": 88,
   "metadata": {
    "collapsed": false
   },
   "outputs": [
    {
     "data": {
      "text/plain": [
       "<matplotlib.axes._subplots.AxesSubplot at 0x7f362af7d828>"
      ]
     },
     "execution_count": 88,
     "metadata": {},
     "output_type": "execute_result"
    },
    {
     "data": {
      "image/png": "[encoded data removed]"
     },
     "execution_count": 88,
     "metadata": {},
     "output_type": "execute_result"
    }
   ],
   "source": [
    "\n",
    "\n",
    "#A bar chart showing R-GPCD_Calculated in each county based on df2015\n",
    "countyList = df2015['County'].unique()\n",
    "countyList.sort()\n",
    "countyGPCDdict = {}\n",
    "gpcdList16 = []\n",
    "for i in range(len(countyList)):\n",
    "    currRGPCD = df2015[df2015['County'] == countyList[i]]['R-GPCD_Calculated'].mean()\n",
    "    countyGPCDdict[countyList[i]] = currRGPCD\n",
    "\n",
    "countyGPCDdict = pd.Series(countyGPCDdict)\n",
    "countyGPCDdict.sort_values(inplace = True)\n",
    "countyGPCDdict.plot(kind = 'bar', grid = True, figsize = (20,8), title = 'Average Gallons Per Capita Day for each county in 2015')"
   ]
  },
  {
   "cell_type": "code",
   "execution_count": 89,
   "metadata": {
    "collapsed": false
   },
   "outputs": [
    {
     "data": {
      "text/plain": [
       "<matplotlib.axes._subplots.AxesSubplot at 0x7f362aff7588>"
      ]
     },
     "execution_count": 89,
     "metadata": {},
     "output_type": "execute_result"
    },
    {
     "data": {
      "image/png": "[encoded data removed]"
     },
     "execution_count": 89,
     "metadata": {},
     "output_type": "execute_result"
    }
   ],
   "source": [
    "\n",
    "\n",
    "#A bar chart showing R-GPCD_Calculated in each county based on df2014\n",
    "countyList = df2014['County'].unique()\n",
    "countyList.sort()\n",
    "countyGPCDdict = {}\n",
    "gpcdList16 = []\n",
    "for i in range(len(countyList)):\n",
    "    currRGPCD = df2014[df2014['County'] == countyList[i]]['R-GPCD_Calculated'].mean()\n",
    "    countyGPCDdict[countyList[i]] = currRGPCD\n",
    "\n",
    "countyGPCDdict = pd.Series(countyGPCDdict)\n",
    "countyGPCDdict.sort_values(inplace = True)\n",
    "countyGPCDdict.plot(kind = 'bar', grid = True, figsize = (20,8), title = 'Average Gallons Per Capita Day for each county in 2014')"
   ]
  },
  {
   "cell_type": "markdown",
   "metadata": {
    "collapsed": false
   },
   "source": [
    "### Line Chart "
   ]
  },
  {
   "cell_type": "code",
   "execution_count": 90,
   "metadata": {
    "collapsed": false
   },
   "outputs": [
    {
     "data": {
      "image/png": "[encoded data removed]"
     },
     "execution_count": 90,
     "metadata": {},
     "output_type": "execute_result"
    }
   ],
   "source": [
    "# Plot a line chart showing the tendency of the average water use (units in gallons)\n",
    "mean_14 = df2014['R-GPCD_Calculated'].mean()\n",
    "mean_15 = df2015['R-GPCD_Calculated'].mean()\n",
    "mean_16 = df2016['R-GPCD_Calculated'].mean()\n",
    "\n",
    "years = [2014,2015,2016]\n",
    "waterUsage = [mean_14, mean_15, mean_16]\n",
    "\n",
    "f = plt.figure(figsize=(6, 8))\n",
    "ax = plt.axes()\n",
    "plt.xlabel('Years')\n",
    "plt.ylabel('Average Water Use per-capita-per-day (in gallons)')\n",
    "plt.title(r'$\\mathrm{Trend\\ of\\ Average\\ Water\\ Use\\ per-capita-day\\ from\\ 2014\\ to\\ 2016 }$')\n",
    "ax.set_xticks(years)\n",
    "plt.ylim((50,150))\n",
    "\n",
    "plt.plot(years, waterUsage)\n",
    "plt.show()"
   ]
  },
  {
   "cell_type": "code",
   "execution_count": 91,
   "metadata": {
    "collapsed": false
   },
   "outputs": [],
   "source": [
    "#This is the function which helps us find the population based on the dataframe\n",
    "def estimate_popuation(df):\n",
    "    supplier_list =list(df['Supplier_Name'].unique())\n",
    "    ttpop=0\n",
    "    for i in range(len(supplier_list)):\n",
    "        df1 = df[df['Supplier_Name'] == supplier_list[i]]\n",
    "        ttpop=ttpop+df1.groupby('Supplier_Name')['Population_Served'].mean()[0]\n",
    "    return(round(ttpop))"
   ]
  },
  {
   "cell_type": "code",
   "execution_count": 92,
   "metadata": {
    "collapsed": false
   },
   "outputs": [
    {
     "data": {
      "image/png": "[encoded data removed]"
     },
     "execution_count": 92,
     "metadata": {},
     "output_type": "execute_result"
    }
   ],
   "source": [
    "#2. Plot line chart to show the change of urban population in California\n",
    "#2014 urban population:\n",
    "point1=estimate_popuation(df2014)\n",
    "#2015 urban population:\n",
    "point2=estimate_popuation(df2015)\n",
    "#2016 urban population:\n",
    "point3=estimate_popuation(df2016)\n",
    "\n",
    "years = [2014,2015,2016]\n",
    "population = [point1, point2, point3]\n",
    "\n",
    "f = plt.figure(figsize=(8, 6))\n",
    "ax = plt.axes()\n",
    "plt.xlabel('Years')\n",
    "plt.ylabel('Population (Units *10^7)')\n",
    "plt.title(r'$\\mathrm{Trend\\ of\\ Urban\\ Population\\ from\\ 2014\\ to\\ 2016 }$')\n",
    "ax.set_xticks(years)\n",
    "plt.plot(years, population)\n",
    "plt.ylim((2.9e7,3.18e7))\n",
    "plt.show()"
   ]
  },
  {
   "cell_type": "markdown",
   "metadata": {
    "collapsed": false
   },
   "source": [
    "# Data Analysis and Results\n",
    "\n",
    "\n"
   ]
  },
  {
   "cell_type": "markdown",
   "metadata": {
    "collapsed": false
   },
   "source": [
    "#### Estimating how many desalination plant projects we need in case of total drought based on a Counties' name or Water Supplier Names or Hydrologic_Region's name (From the list below)"
   ]
  },
  {
   "cell_type": "code",
   "execution_count": 93,
   "metadata": {
    "collapsed": false
   },
   "outputs": [],
   "source": [
    "hydro_list =list(df['Hydrologic_Region'].unique())\n",
    "supplier_list =list(df2016['Supplier_Name'].unique())\n",
    "county_list = list(df['County'].unique())"
   ]
  },
  {
   "cell_type": "code",
   "execution_count": 94,
   "metadata": {
    "collapsed": false
   },
   "outputs": [],
   "source": [
    "# Function based on the name of County\n",
    "def estimate_county(county,df):\n",
    "        gallons_water_per_project=5e7   # Number of gallons water per desalination plants project can produced per day    \n",
    "        df1=df[df.County.str.contains(county) == True]\n",
    "        m_ppw=df1['R-GPCD_Calculated'].mean() #Mean of gallons of water each person need per day\n",
    "# Find the population based on new data frame df1. \n",
    "# We use groupby and take the mean since we noticed that even under the same supplier district, \n",
    "# the population served each month is slightly changing so we decided to take the mean of the the population served in these months in the data frame.\n",
    "        ttpop=df1.groupby('Supplier_Name')['Population_Served'].mean()\n",
    "        ttpop=round(ttpop.sum())\n",
    "        ttwater=ttpop*m_ppw \n",
    "        the_number_of_projectsneed= round(ttwater /gallons_water_per_project)\n",
    "        if the_number_of_projectsneed==0:     #In case, it is zero. We should prepare for at least one for this situation\n",
    "                 the_number_of_projectsneed=1\n",
    "        return (the_number_of_projectsneed)"
   ]
  },
  {
   "cell_type": "code",
   "execution_count": 95,
   "metadata": {
    "collapsed": false
   },
   "outputs": [],
   "source": [
    "# Function based on the name of Supplier_Name\n",
    "def estimate_supplier(supplier,df):\n",
    "        gallons_water_per_project=5e7  # Number of gallons water per desalination plants project can produced per day    \n",
    "        df1=df[df.Supplier_Name.str.contains(supplier) == True] #Get on new data frame which contains the information which related to our interests.\n",
    "        m_ppw=df1['R-GPCD_Calculated'].mean() #Mean of gallsons of water each person need per day\n",
    "        # Find the population based on the new data frame\n",
    "        ttpop=df1.groupby('Supplier_Name')['Population_Served'].mean()\n",
    "        ttpop=round(ttpop.sum())\n",
    "        ttwater=ttpop*m_ppw \n",
    "        the_number_of_projectsneed= round(ttwater /gallons_water_per_project)\n",
    "        if the_number_of_projectsneed==0: #In case, it is zero. We should prepare for at least one for this situation\n",
    "                 the_number_of_projectsneed=1\n",
    "        return (the_number_of_projectsneed)"
   ]
  },
  {
   "cell_type": "code",
   "execution_count": 96,
   "metadata": {
    "collapsed": false
   },
   "outputs": [],
   "source": [
    "# Function based on the name of Hydrologic_Region\n",
    "def estimate_Hydrologic_Region(Hydrologic_Region,df):\n",
    "        gallons_water_per_project=5e7   # Number of gallons water per desalination plants project can produced per day    \n",
    "        df1=df[df.Hydrologic_Region.str.contains(Hydrologic_Region) == True]\n",
    "        m_ppw=df1['R-GPCD_Calculated'].mean() #Mean of gallsons of water each person need per day\n",
    "        # Find the population based on new data frame\n",
    "        ttpop=df1.groupby('Supplier_Name')['Population_Served'].mean()\n",
    "        ttpop=round(ttpop.sum())\n",
    "        ttwater=round(ttpop*m_ppw )\n",
    "        the_number_of_projectsneed= round(ttwater /gallons_water_per_project)\n",
    "        if the_number_of_projectsneed==0: #In case, it is zero. We should prepare for at least one for this situation\n",
    "                 the_number_of_projectsneed=1\n",
    "        return (the_number_of_projectsneed)"
   ]
  },
  {
   "cell_type": "markdown",
   "metadata": {
    "collapsed": false
   },
   "source": [
    "### Results\n",
    "Overview: \n",
    "1. We have built three models to predict how many desalination plant projects we need in the previous part. In the result part,we will show how to use them.\n",
    "\n",
    "2. We are going to make one dataframe to show our results based on Hydrologic_Region\n",
    "> (There are two columns in the dataframe. One is for the Hydrologic_Region name and another one is for  number of projects we need)"
   ]
  },
  {
   "cell_type": "markdown",
   "metadata": {
    "collapsed": false
   },
   "source": [
    "### 1. Predicting the number of desalination plants "
   ]
  },
  {
   "cell_type": "code",
   "execution_count": 97,
   "metadata": {
    "collapsed": false
   },
   "outputs": [],
   "source": [
    "#Prediction based on the county's names: (we will call the function we wrote before)\n",
    "#Example: \n",
    "county_example = estimate_county('ALAMEDA',df2014)\n",
    "\n",
    "# Prediction based on the supplier names: (we will call the function we wrote before)\n",
    "#Example:\n",
    "supplier_example = estimate_supplier('Milpitas  City of',df2014)\n",
    "\n",
    "\n",
    "#  Prediction based on the Hydrologic_Region: (we will call the function we wrote before)\n",
    "# Example:\n",
    "hydrologic_example = estimate_Hydrologic_Region('San Joaquin River',df2014)\n"
   ]
  },
  {
   "cell_type": "code",
   "execution_count": 98,
   "metadata": {
    "collapsed": false
   },
   "outputs": [
    {
     "name": "stdout",
     "output_type": "stream",
     "text": [
      "By building three models to predict deslaination plants, we can deterimine the number of plants, supplier, and hydrologic religions affected. \n",
      "\n",
      "Based on the county's name:\n",
      "For example, in Alameda in 2014, there can be 5 desalination plant project(s)\n",
      "\n",
      "Based on the supplier name:\n",
      "For example: In Milpitas City in 2014, it needs 1 desalination plant project(s)\n",
      "\n",
      "Based on the Hydrolic Region:\n",
      "For example: In the San Joaquin River region in 2014, it needs 3 desalination plant project(s)\n",
      "\n"
     ]
    }
   ],
   "source": [
    "print(\"By building three models to predict deslaination plants, we can deterimine the number of plants, supplier, and hydrologic religions affected. \\n\")\n",
    "print(\"Based on the county's name:\")\n",
    "print(\"For example, in Alameda in 2014, there can be\", county_example, \"desalination plant project(s)\\n\")\n",
    "\n",
    "print(\"Based on the supplier name:\")\n",
    "print(\"For example: In Milpitas City in 2014, it needs\", supplier_example, \"desalination plant project(s)\\n\")\n",
    "\n",
    "print(\"Based on the Hydrolic Region:\")\n",
    "print(\"For example: In the San Joaquin River region in 2014, it needs\", hydrologic_example, \"desalination plant project(s)\\n\")\n",
    "\n"
   ]
  },
  {
   "cell_type": "markdown",
   "metadata": {
    "collapsed": false
   },
   "source": [
    "### 2. Predicting desalination plant projects based on hydrologic region"
   ]
  },
  {
   "cell_type": "markdown",
   "metadata": {
    "collapsed": false
   },
   "source": [
    "Based on the Hydrolic Region, we can predict a certain amount of plant projects"
   ]
  },
  {
   "cell_type": "code",
   "execution_count": 99,
   "metadata": {
    "collapsed": false
   },
   "outputs": [
    {
     "data": {
      "text/html": [
       "<div>\n",
       "<table border=\"1\" class=\"dataframe\">\n",
       "  <thead>\n",
       "    <tr style=\"text-align: right;\">\n",
       "      <th></th>\n",
       "      <th>Hydrologic_Region</th>\n",
       "      <th>num_Projects_needed</th>\n",
       "    </tr>\n",
       "  </thead>\n",
       "  <tbody>\n",
       "    <tr>\n",
       "      <th>0</th>\n",
       "      <td>San Francisco Bay</td>\n",
       "      <td>8</td>\n",
       "    </tr>\n",
       "    <tr>\n",
       "      <th>1</th>\n",
       "      <td>South Coast</td>\n",
       "      <td>33</td>\n",
       "    </tr>\n",
       "    <tr>\n",
       "      <th>2</th>\n",
       "      <td>San Joaquin River</td>\n",
       "      <td>2</td>\n",
       "    </tr>\n",
       "    <tr>\n",
       "      <th>3</th>\n",
       "      <td>Sacramento River</td>\n",
       "      <td>5</td>\n",
       "    </tr>\n",
       "    <tr>\n",
       "      <th>4</th>\n",
       "      <td>North Coast</td>\n",
       "      <td>1</td>\n",
       "    </tr>\n",
       "    <tr>\n",
       "      <th>5</th>\n",
       "      <td>Tulare Lake</td>\n",
       "      <td>3</td>\n",
       "    </tr>\n",
       "    <tr>\n",
       "      <th>6</th>\n",
       "      <td>Colorado River</td>\n",
       "      <td>2</td>\n",
       "    </tr>\n",
       "    <tr>\n",
       "      <th>7</th>\n",
       "      <td>Central Coast</td>\n",
       "      <td>1</td>\n",
       "    </tr>\n",
       "    <tr>\n",
       "      <th>8</th>\n",
       "      <td>South Lahontan</td>\n",
       "      <td>1</td>\n",
       "    </tr>\n",
       "  </tbody>\n",
       "</table>\n",
       "</div>"
      ]
     },
     "execution_count": 99,
     "metadata": {},
     "output_type": "execute_result"
    }
   ],
   "source": [
    "hydro_list =list(df['Hydrologic_Region'].unique())\n",
    "h_list=[]\n",
    "for x in hydro_list:\n",
    "    h_list.append(round((estimate_Hydrologic_Region(x,df2014)+estimate_Hydrologic_Region(x,df2015)+\n",
    "                  estimate_Hydrologic_Region(x,df2016))/3))\n",
    "\n",
    "hydro_se = {'Hydrologic_Region' : hydro_list,\n",
    "                'num_Projects_needed': h_list }\n",
    "hydro_df = pd.DataFrame(hydro_se)\n",
    "hydro_df"
   ]
  },
  {
   "cell_type": "code",
   "execution_count": 100,
   "metadata": {
    "collapsed": false
   },
   "outputs": [
    {
     "name": "stdout",
     "output_type": "stream",
     "text": [
      "Total Number of Desalination Plant Projects Need is 56 to supply the urban residential-use water in California\n"
     ]
    }
   ],
   "source": [
    "t=hydro_df['num_Projects_needed'].sum()\n",
    "print('Total Number of Desalination Plant Projects Need is',t, \"to supply the urban residential-use water in California\")"
   ]
  },
  {
   "cell_type": "markdown",
   "metadata": {
    "collapsed": false
   },
   "source": [
    "# Conclusion / Dicussion\n"
   ]
  },
  {
   "cell_type": "markdown",
   "metadata": {
    "collapsed": false
   },
   "source": [
    "### Conclusion: "
   ]
  },
  {
   "cell_type": "code",
   "execution_count": 101,
   "metadata": {
    "collapsed": false
   },
   "outputs": [
    {
     "name": "stdout",
     "output_type": "stream",
     "text": [
      "Total Number of Desalination Plant Projects Need is 56 to supply the urban residential-use water in California\n"
     ]
    }
   ],
   "source": [
    "t=hydro_df['num_Projects_needed'].sum()\n",
    "print('Total Number of Desalination Plant Projects Need is',t, \"to supply the urban residential-use water in California\")"
   ]
  },
  {
   "cell_type": "markdown",
   "metadata": {
    "collapsed": false
   },
   "source": [
    "If each plant is a billion dollar plant supplying 50 million gallons, our hypothesis was very close to the concluded result (56 vs 51)."
   ]
  },
  {
   "cell_type": "markdown",
   "metadata": {
    "collapsed": false
   },
   "source": [
    "### Discussion:\n",
    "**1.** When we are trying to loop through the unique list of the supplier name or counties' names, we realized that dataframes of different years don't contain the exact same counties' names or supplier's names. Hence, we decided to conclude our result based on the Hydrologic_Region's name. At the same time, we build a model to predict the amount of desalination plant projects needed based on suppliers' names or the counties' names. \n",
    "\n",
    "**2. Why did we switch our project?**\n",
    "\n",
    "We switched our project idea for a few reasons. \n",
    "\n",
    "We did not have any domain knowledge for the problem that we were trying to solve. Our best guesses at water consumption were just that - guesses. We thought that it would be more practical and more useful to look at how many desalination plants would be needed, rather than where they should be.\n",
    "\n",
    "The second reason had to do with the algorithm itself. Our original plan, to constrain the centroids to be along the coast, was something that no one had attempted to do before (as far as we'd found). So we simplified our problem a bit, to \"Constrain the size of the clusters to be a specific size\" as there could only be a certain amount of people serviced by a desalination plant. We also chose to limit our observations to only be along the coast, to make it so that the desalination plant would only service coastal populations. However, this lowered the amount of observations to 743, which would have costed us points in the end. Both because of the complexity of limiting the cluster size and because of the small number of observations, we chose to go with a problem that was better in nearly every way.\n",
    "\n",
    "**3. What are the pitfalls and potential confounds of your data and/or methods?**\n",
    "\n",
    "Our project is very hypothetical since we are unsure of many variables. For example, if we are placing the desalination plant in a more population dense area, the water delivery will be more efficient, but the desalination plant itself will take up a huge space. Therefore placing the plant in the most population dense area might not be the best idea, and we need to come up with a constraint of population density for where we can place the plants.\n",
    "Furthremore, Since the implementation of desalination plants takes relatively long time, and our project is using population as a independent variable, we might also need to consider the growth and decay of population, or the population shifts in California.\n",
    "The water pipe distance and cost to maintain to transport water to plants would also cause the number of plants to change.\n",
    "\n",
    "**Confounds in our design:** \n",
    "\n",
    "The average water use and total population are two key factors to solve our research question. We noticed that the trend of average water use per day is decreasing from 2014 to 2016.  As for urban population, we know that the population in California is still growing so in that case, it will be hard to predict the exact number of desalination projects we need in case of total drought in future. Also, if we have more time, we could build another two models to predict the population and the average residential water usage per-capita-day. After that, these two models will help us get more accurate result. This is also data that is collected up to 2016. If we had current data, it would make this estimate even more accurate. \n",
    "\n"
   ]
  }
 ],
 "metadata": {
  "kernelspec": {
   "display_name": "Python 3",
   "language": "python",
   "name": "python3"
  },
  "language_info": {
   "codemirror_mode": {
    "name": "ipython",
    "version": 3
   },
   "file_extension": ".py",
   "mimetype": "text/x-python",
   "name": "python",
   "nbconvert_exporter": "python",
   "pygments_lexer": "ipython3",
   "version": "3.6.0"
  }
 },
 "nbformat": 4,
 "nbformat_minor": 0
}
